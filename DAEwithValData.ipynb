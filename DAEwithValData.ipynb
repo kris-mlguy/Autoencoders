{
 "cells": [
  {
   "cell_type": "markdown",
   "metadata": {},
   "source": [
    "### Import libraries"
   ]
  },
  {
   "cell_type": "code",
   "execution_count": 1,
   "metadata": {},
   "outputs": [],
   "source": [
    "from tensorflow.keras.datasets import mnist\n",
    "import numpy as np\n",
    "import matplotlib.pyplot as plt\n",
    "import pandas as pd\n",
    "import tensorflow as tf\n",
    "from datetime import datetime\n",
    "logdir = \"./logs_DAEwithValData/scalars/\" + datetime.now().strftime(\"%Y%m%d-%H%M%S\")\n",
    "tensorboard_callback = tf.keras.callbacks.TensorBoard(log_dir=logdir)\n",
    "es = tf.keras.callbacks.EarlyStopping(monitor='val_loss', min_delta=0, patience=3, verbose=0, restore_best_weights=True)"
   ]
  },
  {
   "cell_type": "markdown",
   "metadata": {},
   "source": [
    "A couple of methods to see local compute devices"
   ]
  },
  {
   "cell_type": "code",
   "execution_count": 2,
   "metadata": {},
   "outputs": [
    {
     "name": "stdout",
     "output_type": "stream",
     "text": [
      "[name: \"/device:CPU:0\"\n",
      "device_type: \"CPU\"\n",
      "memory_limit: 268435456\n",
      "locality {\n",
      "}\n",
      "incarnation: 70768890627195935\n",
      ", name: \"/device:GPU:0\"\n",
      "device_type: \"GPU\"\n",
      "memory_limit: 1482142514\n",
      "locality {\n",
      "  bus_id: 1\n",
      "  links {\n",
      "  }\n",
      "}\n",
      "incarnation: 13859863658317963147\n",
      "physical_device_desc: \"device: 0, name: Quadro M2000M, pci bus id: 0000:01:00.0, compute capability: 5.0\"\n",
      "]\n"
     ]
    }
   ],
   "source": [
    "from tensorflow.python.client import device_lib \n",
    "print(device_lib.list_local_devices())"
   ]
  },
  {
   "cell_type": "code",
   "execution_count": 3,
   "metadata": {},
   "outputs": [
    {
     "data": {
      "text/plain": [
       "[PhysicalDevice(name='/physical_device:CPU:0', device_type='CPU'),\n",
       " PhysicalDevice(name='/physical_device:GPU:0', device_type='GPU')]"
      ]
     },
     "execution_count": 3,
     "metadata": {},
     "output_type": "execute_result"
    }
   ],
   "source": [
    "physical_devices = tf.config.list_physical_devices()\n",
    "physical_devices"
   ]
  },
  {
   "cell_type": "code",
   "execution_count": 4,
   "metadata": {},
   "outputs": [],
   "source": [
    "#tf.config.set_visible_devices(physical_devices[1:],'GPU')"
   ]
  },
  {
   "cell_type": "markdown",
   "metadata": {},
   "source": [
    "Following are different options to check if GPU is being used by tensorflow"
   ]
  },
  {
   "cell_type": "code",
   "execution_count": 5,
   "metadata": {},
   "outputs": [
    {
     "data": {
      "text/plain": [
       "'/device:GPU:0'"
      ]
     },
     "execution_count": 5,
     "metadata": {},
     "output_type": "execute_result"
    }
   ],
   "source": [
    "tf.test.gpu_device_name()"
   ]
  },
  {
   "cell_type": "code",
   "execution_count": 6,
   "metadata": {},
   "outputs": [
    {
     "name": "stdout",
     "output_type": "stream",
     "text": [
      "Device mapping:\n",
      "/job:localhost/replica:0/task:0/device:GPU:0 -> device: 0, name: Quadro M2000M, pci bus id: 0000:01:00.0, compute capability: 5.0\n",
      "\n"
     ]
    }
   ],
   "source": [
    "sess = tf.compat.v1.Session(config=tf.compat.v1.ConfigProto(log_device_placement=True))"
   ]
  },
  {
   "cell_type": "code",
   "execution_count": 7,
   "metadata": {},
   "outputs": [
    {
     "name": "stdout",
     "output_type": "stream",
     "text": [
      "WARNING:tensorflow:From <ipython-input-7-80152b1eca9e>:1: is_gpu_available (from tensorflow.python.framework.test_util) is deprecated and will be removed in a future version.\n",
      "Instructions for updating:\n",
      "Use `tf.config.list_physical_devices('GPU')` instead.\n"
     ]
    },
    {
     "data": {
      "text/plain": [
       "True"
      ]
     },
     "execution_count": 7,
     "metadata": {},
     "output_type": "execute_result"
    }
   ],
   "source": [
    "tf.test.is_gpu_available( cuda_only=False, min_cuda_compute_capability=None)"
   ]
  },
  {
   "cell_type": "markdown",
   "metadata": {},
   "source": [
    "### Load MNIST data\n",
    "Load and split data to train, validation and test sets"
   ]
  },
  {
   "cell_type": "code",
   "execution_count": 8,
   "metadata": {},
   "outputs": [],
   "source": [
    "(X_train, _), (X_test, _) = mnist.load_data()"
   ]
  },
  {
   "cell_type": "code",
   "execution_count": 9,
   "metadata": {},
   "outputs": [
    {
     "data": {
      "text/plain": [
       "(28, 28)"
      ]
     },
     "execution_count": 9,
     "metadata": {},
     "output_type": "execute_result"
    }
   ],
   "source": [
    "X_train[0,:,:].shape"
   ]
  },
  {
   "cell_type": "code",
   "execution_count": 10,
   "metadata": {},
   "outputs": [],
   "source": [
    "X_val = X_train[-10000:,:,:]\n",
    "X_train = X_train[:-10000,:,:]"
   ]
  },
  {
   "cell_type": "code",
   "execution_count": 11,
   "metadata": {},
   "outputs": [
    {
     "data": {
      "text/plain": [
       "((50000, 28, 28), (10000, 28, 28))"
      ]
     },
     "execution_count": 11,
     "metadata": {},
     "output_type": "execute_result"
    }
   ],
   "source": [
    "X_train.shape, X_val.shape"
   ]
  },
  {
   "cell_type": "markdown",
   "metadata": {},
   "source": [
    "### Scale pixel data to a uniform range\n",
    "Pixel values can range from 0 to 255 and scaling can bring them to [0,1] range"
   ]
  },
  {
   "cell_type": "code",
   "execution_count": 12,
   "metadata": {},
   "outputs": [],
   "source": [
    "X_train = X_train.astype('float32')/255.\n",
    "X_val = X_val.astype('float32')/255.\n",
    "X_test = X_test.astype('float32')/255.\n",
    "\n",
    "X_train = np.reshape(X_train, (len(X_train),28,28,1))\n",
    "X_val = np.reshape(X_val, (len(X_val),28,28,1))\n",
    "X_test = np.reshape(X_test, (len(X_test),28,28,1))"
   ]
  },
  {
   "cell_type": "code",
   "execution_count": 13,
   "metadata": {},
   "outputs": [
    {
     "data": {
      "text/plain": [
       "((50000, 28, 28, 1), (10000, 28, 28, 1), (10000, 28, 28, 1))"
      ]
     },
     "execution_count": 13,
     "metadata": {},
     "output_type": "execute_result"
    }
   ],
   "source": [
    "X_train.shape, X_val.shape, X_test.shape"
   ]
  },
  {
   "cell_type": "markdown",
   "metadata": {},
   "source": [
    "### Introduce noise in data\n",
    "Noise from a normal distribution with suitable mean and standard deviation may be introduced for robust learning"
   ]
  },
  {
   "cell_type": "code",
   "execution_count": 14,
   "metadata": {},
   "outputs": [],
   "source": [
    "X_train_noisy = X_train + 0.5 * np.random.normal(loc=0.0,scale=1.0,size=X_train.shape)\n",
    "X_val_noisy = X_val + 0.5 * np.random.normal(loc=0.0,scale=1.0,size=X_val.shape)\n",
    "X_test_noisy = X_test + 0.5 * np.random.normal(loc=0.0,scale=1.0,size=X_test.shape)\n",
    "\n",
    "X_train_noisy = np.clip(X_train_noisy,0.,1.)\n",
    "X_val_noisy = np.clip(X_val_noisy,0.,1.)\n",
    "X_test_noisy = np.clip(X_test_noisy,0.,1.)"
   ]
  },
  {
   "cell_type": "markdown",
   "metadata": {},
   "source": [
    "### Visualize validation and test samples"
   ]
  },
  {
   "cell_type": "code",
   "execution_count": 15,
   "metadata": {},
   "outputs": [
    {
     "data": {
      "image/png": "[encoded data removed]",
      "text/plain": [
       "<Figure size 2160x360 with 20 Axes>"
      ]
     },
     "metadata": {
      "needs_background": "light"
     },
     "output_type": "display_data"
    }
   ],
   "source": [
    "n = 10\n",
    "plt.figure(figsize=(30,5))\n",
    "for i in range(n):\n",
    "    ax = plt.subplot(2,n,i+1)\n",
    "    plt.imshow(X_val_noisy[i].reshape((28,28)))\n",
    "    plt.gray()\n",
    "    ax.get_xaxis().set_visible(False)\n",
    "    ax.get_yaxis().set_visible(False)\n",
    "    \n",
    "    ax = plt.subplot(2,n,i+1+n)\n",
    "    plt.imshow(X_test_noisy[i].reshape((28,28)))\n",
    "    plt.gray()\n",
    "    ax.get_xaxis().set_visible(False)\n",
    "    ax.get_yaxis().set_visible(False)\n",
    "plt.show()"
   ]
  },
  {
   "cell_type": "markdown",
   "metadata": {},
   "source": [
    "### Build and compile convolutional autoencoder\n",
    "A 2-layer encoder and decoder with convolutional and max pooling layers, compiled with binary cross entropy and adadelta optimizer"
   ]
  },
  {
   "cell_type": "code",
   "execution_count": 16,
   "metadata": {},
   "outputs": [],
   "source": [
    "input_image = tf.keras.layers.Input(shape=(28,28,1))\n",
    "x = tf.keras.layers.Conv2D(32,(3,3), activation='relu', padding='same')(input_image)\n",
    "x = tf.keras.layers.MaxPool2D((2,2), padding='same')(x)\n",
    "x = tf.keras.layers.Conv2D(32,(3,3), activation='relu', padding='same')(x)\n",
    "encoded = tf.keras.layers.MaxPool2D((2,2), padding='same')(x)\n",
    "x = tf.keras.layers.Conv2D(32,(3,3), activation='relu', padding='same')(encoded)\n",
    "x = tf.keras.layers.UpSampling2D((2,2))(x)\n",
    "x = tf.keras.layers.Conv2D(32,(3,3), activation='relu', padding='same')(x)\n",
    "x = tf.keras.layers.UpSampling2D((2,2))(x)\n",
    "decoded = tf.keras.layers.Conv2D(1,(3,3), activation='sigmoid', padding='same')(x)"
   ]
  },
  {
   "cell_type": "code",
   "execution_count": 17,
   "metadata": {},
   "outputs": [
    {
     "name": "stdout",
     "output_type": "stream",
     "text": [
      "Model: \"model\"\n",
      "_________________________________________________________________\n",
      "Layer (type)                 Output Shape              Param #   \n",
      "=================================================================\n",
      "input_1 (InputLayer)         [(None, 28, 28, 1)]       0         \n",
      "_________________________________________________________________\n",
      "conv2d (Conv2D)              (None, 28, 28, 32)        320       \n",
      "_________________________________________________________________\n",
      "max_pooling2d (MaxPooling2D) (None, 14, 14, 32)        0         \n",
      "_________________________________________________________________\n",
      "conv2d_1 (Conv2D)            (None, 14, 14, 32)        9248      \n",
      "_________________________________________________________________\n",
      "max_pooling2d_1 (MaxPooling2 (None, 7, 7, 32)          0         \n",
      "_________________________________________________________________\n",
      "conv2d_2 (Conv2D)            (None, 7, 7, 32)          9248      \n",
      "_________________________________________________________________\n",
      "up_sampling2d (UpSampling2D) (None, 14, 14, 32)        0         \n",
      "_________________________________________________________________\n",
      "conv2d_3 (Conv2D)            (None, 14, 14, 32)        9248      \n",
      "_________________________________________________________________\n",
      "up_sampling2d_1 (UpSampling2 (None, 28, 28, 32)        0         \n",
      "_________________________________________________________________\n",
      "conv2d_4 (Conv2D)            (None, 28, 28, 1)         289       \n",
      "=================================================================\n",
      "Total params: 28,353\n",
      "Trainable params: 28,353\n",
      "Non-trainable params: 0\n",
      "_________________________________________________________________\n"
     ]
    }
   ],
   "source": [
    "autoencoder = tf.keras.models.Model(input_image, decoded)\n",
    "autoencoder.compile(optimizer='adadelta', loss='binary_crossentropy')\n",
    "autoencoder.summary()"
   ]
  },
  {
   "cell_type": "markdown",
   "metadata": {},
   "source": [
    "### Train the model \n",
    "Number of iterations, batch size and validation data can be set here"
   ]
  },
  {
   "cell_type": "code",
   "execution_count": 18,
   "metadata": {},
   "outputs": [
    {
     "name": "stdout",
     "output_type": "stream",
     "text": [
      "Epoch 1/250\n",
      "391/391 [==============================] - 14s 29ms/step - loss: 0.6817 - val_loss: 0.6712\n",
      "Epoch 2/250\n",
      "391/391 [==============================] - 10s 25ms/step - loss: 0.6558 - val_loss: 0.6351\n",
      "Epoch 3/250\n",
      "391/391 [==============================] - 10s 26ms/step - loss: 0.6030 - val_loss: 0.5618\n",
      "Epoch 4/250\n",
      "391/391 [==============================] - 10s 25ms/step - loss: 0.5301 - val_loss: 0.5065\n",
      "Epoch 5/250\n",
      "391/391 [==============================] - 10s 25ms/step - loss: 0.5036 - val_loss: 0.4951\n",
      "Epoch 6/250\n",
      "391/391 [==============================] - 10s 25ms/step - loss: 0.4949 - val_loss: 0.4871\n",
      "Epoch 7/250\n",
      "391/391 [==============================] - 10s 25ms/step - loss: 0.4867 - val_loss: 0.4790\n",
      "Epoch 8/250\n",
      "391/391 [==============================] - 10s 26ms/step - loss: 0.4783 - val_loss: 0.4705\n",
      "Epoch 9/250\n",
      "391/391 [==============================] - 10s 25ms/step - loss: 0.4692 - val_loss: 0.4612\n",
      "Epoch 10/250\n",
      "391/391 [==============================] - 10s 25ms/step - loss: 0.4592 - val_loss: 0.4507\n",
      "Epoch 11/250\n",
      "391/391 [==============================] - 10s 25ms/step - loss: 0.4477 - val_loss: 0.4388\n",
      "Epoch 12/250\n",
      "391/391 [==============================] - 10s 25ms/step - loss: 0.4349 - val_loss: 0.4255\n",
      "Epoch 13/250\n",
      "391/391 [==============================] - 10s 25ms/step - loss: 0.4203 - val_loss: 0.4099\n",
      "Epoch 14/250\n",
      "391/391 [==============================] - 10s 25ms/step - loss: 0.4029 - val_loss: 0.3915\n",
      "Epoch 15/250\n",
      "391/391 [==============================] - 10s 25ms/step - loss: 0.3829 - val_loss: 0.3706\n",
      "Epoch 16/250\n",
      "391/391 [==============================] - 10s 25ms/step - loss: 0.3604 - val_loss: 0.3473\n",
      "Epoch 17/250\n",
      "391/391 [==============================] - 10s 25ms/step - loss: 0.3354 - val_loss: 0.3218\n",
      "Epoch 18/250\n",
      "391/391 [==============================] - 10s 25ms/step - loss: 0.3091 - val_loss: 0.2961\n",
      "Epoch 19/250\n",
      "391/391 [==============================] - 10s 25ms/step - loss: 0.2839 - val_loss: 0.2730\n",
      "Epoch 20/250\n",
      "391/391 [==============================] - 10s 25ms/step - loss: 0.2627 - val_loss: 0.2546\n",
      "Epoch 21/250\n",
      "391/391 [==============================] - 10s 25ms/step - loss: 0.2465 - val_loss: 0.2411\n",
      "Epoch 22/250\n",
      "391/391 [==============================] - 10s 25ms/step - loss: 0.2348 - val_loss: 0.2315\n",
      "Epoch 23/250\n",
      "391/391 [==============================] - 10s 25ms/step - loss: 0.2265 - val_loss: 0.2244\n",
      "Epoch 24/250\n",
      "391/391 [==============================] - 10s 25ms/step - loss: 0.2203 - val_loss: 0.2190\n",
      "Epoch 25/250\n",
      "391/391 [==============================] - 10s 25ms/step - loss: 0.2153 - val_loss: 0.2145\n",
      "Epoch 26/250\n",
      "391/391 [==============================] - 10s 25ms/step - loss: 0.2111 - val_loss: 0.2106\n",
      "Epoch 27/250\n",
      "391/391 [==============================] - 10s 25ms/step - loss: 0.2076 - val_loss: 0.2073\n",
      "Epoch 28/250\n",
      "391/391 [==============================] - 10s 25ms/step - loss: 0.2044 - val_loss: 0.2043\n",
      "Epoch 29/250\n",
      "391/391 [==============================] - 10s 25ms/step - loss: 0.2015 - val_loss: 0.2016\n",
      "Epoch 30/250\n",
      "391/391 [==============================] - 10s 25ms/step - loss: 0.1990 - val_loss: 0.1991\n",
      "Epoch 31/250\n",
      "391/391 [==============================] - 10s 25ms/step - loss: 0.1966 - val_loss: 0.1969\n",
      "Epoch 32/250\n",
      "391/391 [==============================] - 10s 25ms/step - loss: 0.1944 - val_loss: 0.1948\n",
      "Epoch 33/250\n",
      "391/391 [==============================] - 10s 25ms/step - loss: 0.1925 - val_loss: 0.1929\n",
      "Epoch 34/250\n",
      "391/391 [==============================] - 10s 25ms/step - loss: 0.1906 - val_loss: 0.1911\n",
      "Epoch 35/250\n",
      "391/391 [==============================] - 10s 25ms/step - loss: 0.1889 - val_loss: 0.1894\n",
      "Epoch 36/250\n",
      "391/391 [==============================] - 10s 25ms/step - loss: 0.1873 - val_loss: 0.1879\n",
      "Epoch 37/250\n",
      "391/391 [==============================] - 10s 25ms/step - loss: 0.1858 - val_loss: 0.1864\n",
      "Epoch 38/250\n",
      "391/391 [==============================] - 10s 25ms/step - loss: 0.1843 - val_loss: 0.1850\n",
      "Epoch 39/250\n",
      "391/391 [==============================] - 10s 25ms/step - loss: 0.1830 - val_loss: 0.1837\n",
      "Epoch 40/250\n",
      "391/391 [==============================] - 10s 25ms/step - loss: 0.1817 - val_loss: 0.1825\n",
      "Epoch 41/250\n",
      "391/391 [==============================] - 10s 25ms/step - loss: 0.1805 - val_loss: 0.1813\n",
      "Epoch 42/250\n",
      "391/391 [==============================] - 10s 25ms/step - loss: 0.1793 - val_loss: 0.1802\n",
      "Epoch 43/250\n",
      "391/391 [==============================] - 10s 25ms/step - loss: 0.1783 - val_loss: 0.1791\n",
      "Epoch 44/250\n",
      "391/391 [==============================] - 10s 25ms/step - loss: 0.1772 - val_loss: 0.1782\n",
      "Epoch 45/250\n",
      "391/391 [==============================] - 10s 25ms/step - loss: 0.1762 - val_loss: 0.1772\n",
      "Epoch 46/250\n",
      "391/391 [==============================] - 10s 25ms/step - loss: 0.1753 - val_loss: 0.1763\n",
      "Epoch 47/250\n",
      "391/391 [==============================] - 10s 25ms/step - loss: 0.1744 - val_loss: 0.1754\n",
      "Epoch 48/250\n",
      "391/391 [==============================] - 10s 25ms/step - loss: 0.1736 - val_loss: 0.1746\n",
      "Epoch 49/250\n",
      "391/391 [==============================] - 10s 25ms/step - loss: 0.1727 - val_loss: 0.1738\n",
      "Epoch 50/250\n",
      "391/391 [==============================] - 10s 25ms/step - loss: 0.1719 - val_loss: 0.1730\n",
      "Epoch 51/250\n",
      "391/391 [==============================] - 10s 25ms/step - loss: 0.1712 - val_loss: 0.1723\n",
      "Epoch 52/250\n",
      "391/391 [==============================] - 10s 25ms/step - loss: 0.1704 - val_loss: 0.1716\n",
      "Epoch 53/250\n",
      "391/391 [==============================] - 10s 25ms/step - loss: 0.1697 - val_loss: 0.1709\n",
      "Epoch 54/250\n",
      "391/391 [==============================] - 10s 25ms/step - loss: 0.1690 - val_loss: 0.1702\n",
      "Epoch 55/250\n",
      "391/391 [==============================] - 10s 25ms/step - loss: 0.1684 - val_loss: 0.1695\n",
      "Epoch 56/250\n",
      "391/391 [==============================] - 10s 25ms/step - loss: 0.1677 - val_loss: 0.1689\n",
      "Epoch 57/250\n",
      "391/391 [==============================] - 10s 25ms/step - loss: 0.1671 - val_loss: 0.1683\n",
      "Epoch 58/250\n",
      "391/391 [==============================] - 10s 25ms/step - loss: 0.1665 - val_loss: 0.1677\n",
      "Epoch 59/250\n",
      "391/391 [==============================] - 10s 25ms/step - loss: 0.1659 - val_loss: 0.1671\n",
      "Epoch 60/250\n",
      "391/391 [==============================] - 10s 25ms/step - loss: 0.1653 - val_loss: 0.1665\n",
      "Epoch 61/250\n",
      "391/391 [==============================] - 10s 25ms/step - loss: 0.1647 - val_loss: 0.1660\n",
      "Epoch 62/250\n",
      "391/391 [==============================] - 10s 25ms/step - loss: 0.1642 - val_loss: 0.1654\n",
      "Epoch 63/250\n",
      "391/391 [==============================] - 10s 25ms/step - loss: 0.1637 - val_loss: 0.1649\n",
      "Epoch 64/250\n",
      "391/391 [==============================] - 10s 25ms/step - loss: 0.1631 - val_loss: 0.1644\n",
      "Epoch 65/250\n",
      "391/391 [==============================] - 10s 25ms/step - loss: 0.1626 - val_loss: 0.1639\n",
      "Epoch 66/250\n",
      "391/391 [==============================] - 10s 25ms/step - loss: 0.1621 - val_loss: 0.1634\n",
      "Epoch 67/250\n",
      "391/391 [==============================] - 10s 25ms/step - loss: 0.1616 - val_loss: 0.1629\n",
      "Epoch 68/250\n",
      "391/391 [==============================] - 10s 25ms/step - loss: 0.1611 - val_loss: 0.1624\n",
      "Epoch 69/250\n",
      "391/391 [==============================] - 10s 25ms/step - loss: 0.1607 - val_loss: 0.1619\n",
      "Epoch 70/250\n",
      "391/391 [==============================] - 10s 25ms/step - loss: 0.1602 - val_loss: 0.1615\n",
      "Epoch 71/250\n",
      "391/391 [==============================] - 10s 25ms/step - loss: 0.1598 - val_loss: 0.1610\n",
      "Epoch 72/250\n",
      "391/391 [==============================] - 10s 25ms/step - loss: 0.1593 - val_loss: 0.1606\n",
      "Epoch 73/250\n",
      "391/391 [==============================] - 10s 25ms/step - loss: 0.1589 - val_loss: 0.1602\n",
      "Epoch 74/250\n",
      "391/391 [==============================] - 10s 25ms/step - loss: 0.1585 - val_loss: 0.1597\n",
      "Epoch 75/250\n",
      "391/391 [==============================] - 10s 25ms/step - loss: 0.1580 - val_loss: 0.1593\n",
      "Epoch 76/250\n",
      "391/391 [==============================] - 10s 25ms/step - loss: 0.1576 - val_loss: 0.1589\n",
      "Epoch 77/250\n",
      "391/391 [==============================] - 10s 25ms/step - loss: 0.1572 - val_loss: 0.1585\n",
      "Epoch 78/250\n",
      "391/391 [==============================] - 10s 25ms/step - loss: 0.1568 - val_loss: 0.1581\n",
      "Epoch 79/250\n",
      "391/391 [==============================] - 10s 25ms/step - loss: 0.1564 - val_loss: 0.1577\n"
     ]
    },
    {
     "name": "stdout",
     "output_type": "stream",
     "text": [
      "Epoch 80/250\n",
      "391/391 [==============================] - 10s 25ms/step - loss: 0.1560 - val_loss: 0.1573\n",
      "Epoch 81/250\n",
      "391/391 [==============================] - 10s 25ms/step - loss: 0.1556 - val_loss: 0.1569\n",
      "Epoch 82/250\n",
      "391/391 [==============================] - 10s 25ms/step - loss: 0.1553 - val_loss: 0.1565\n",
      "Epoch 83/250\n",
      "391/391 [==============================] - 10s 25ms/step - loss: 0.1549 - val_loss: 0.1562\n",
      "Epoch 84/250\n",
      "391/391 [==============================] - 10s 25ms/step - loss: 0.1545 - val_loss: 0.1558\n",
      "Epoch 85/250\n",
      "391/391 [==============================] - 10s 25ms/step - loss: 0.1542 - val_loss: 0.1555\n",
      "Epoch 86/250\n",
      "391/391 [==============================] - 10s 25ms/step - loss: 0.1538 - val_loss: 0.1551\n",
      "Epoch 87/250\n",
      "391/391 [==============================] - 10s 25ms/step - loss: 0.1535 - val_loss: 0.1548\n",
      "Epoch 88/250\n",
      "391/391 [==============================] - 10s 25ms/step - loss: 0.1532 - val_loss: 0.1545\n",
      "Epoch 89/250\n",
      "391/391 [==============================] - 10s 25ms/step - loss: 0.1529 - val_loss: 0.1541\n",
      "Epoch 90/250\n",
      "391/391 [==============================] - 10s 25ms/step - loss: 0.1525 - val_loss: 0.1538\n",
      "Epoch 91/250\n",
      "391/391 [==============================] - 10s 25ms/step - loss: 0.1522 - val_loss: 0.1535\n",
      "Epoch 92/250\n",
      "391/391 [==============================] - 10s 25ms/step - loss: 0.1519 - val_loss: 0.1532\n",
      "Epoch 93/250\n",
      "391/391 [==============================] - 10s 25ms/step - loss: 0.1516 - val_loss: 0.1529\n",
      "Epoch 94/250\n",
      "391/391 [==============================] - 10s 25ms/step - loss: 0.1513 - val_loss: 0.1526\n",
      "Epoch 95/250\n",
      "391/391 [==============================] - 10s 25ms/step - loss: 0.1510 - val_loss: 0.1523\n",
      "Epoch 96/250\n",
      "391/391 [==============================] - 10s 25ms/step - loss: 0.1507 - val_loss: 0.1520\n",
      "Epoch 97/250\n",
      "391/391 [==============================] - 10s 25ms/step - loss: 0.1504 - val_loss: 0.1517\n",
      "Epoch 98/250\n",
      "391/391 [==============================] - 10s 25ms/step - loss: 0.1501 - val_loss: 0.1514\n",
      "Epoch 99/250\n",
      "391/391 [==============================] - 10s 25ms/step - loss: 0.1498 - val_loss: 0.1511\n",
      "Epoch 100/250\n",
      "391/391 [==============================] - 10s 25ms/step - loss: 0.1496 - val_loss: 0.1508\n",
      "Epoch 101/250\n",
      "391/391 [==============================] - 10s 25ms/step - loss: 0.1493 - val_loss: 0.1506\n",
      "Epoch 102/250\n",
      "391/391 [==============================] - 10s 25ms/step - loss: 0.1490 - val_loss: 0.1503\n",
      "Epoch 103/250\n",
      "391/391 [==============================] - 10s 25ms/step - loss: 0.1488 - val_loss: 0.1500\n",
      "Epoch 104/250\n",
      "391/391 [==============================] - 10s 25ms/step - loss: 0.1485 - val_loss: 0.1498\n",
      "Epoch 105/250\n",
      "391/391 [==============================] - 10s 25ms/step - loss: 0.1482 - val_loss: 0.1495\n",
      "Epoch 106/250\n",
      "391/391 [==============================] - 10s 25ms/step - loss: 0.1480 - val_loss: 0.1493\n",
      "Epoch 107/250\n",
      "391/391 [==============================] - 10s 25ms/step - loss: 0.1477 - val_loss: 0.1490\n",
      "Epoch 108/250\n",
      "391/391 [==============================] - 10s 25ms/step - loss: 0.1475 - val_loss: 0.1487\n",
      "Epoch 109/250\n",
      "391/391 [==============================] - 10s 25ms/step - loss: 0.1473 - val_loss: 0.1485\n",
      "Epoch 110/250\n",
      "391/391 [==============================] - 10s 25ms/step - loss: 0.1470 - val_loss: 0.1483\n",
      "Epoch 111/250\n",
      "391/391 [==============================] - 10s 25ms/step - loss: 0.1468 - val_loss: 0.1480\n",
      "Epoch 112/250\n",
      "391/391 [==============================] - 10s 25ms/step - loss: 0.1465 - val_loss: 0.1478\n",
      "Epoch 113/250\n",
      "391/391 [==============================] - 10s 25ms/step - loss: 0.1463 - val_loss: 0.1475\n",
      "Epoch 114/250\n",
      "391/391 [==============================] - 10s 25ms/step - loss: 0.1461 - val_loss: 0.1473\n",
      "Epoch 115/250\n",
      "391/391 [==============================] - 10s 25ms/step - loss: 0.1458 - val_loss: 0.1471\n",
      "Epoch 116/250\n",
      "391/391 [==============================] - 10s 25ms/step - loss: 0.1456 - val_loss: 0.1469\n",
      "Epoch 117/250\n",
      "391/391 [==============================] - 10s 25ms/step - loss: 0.1454 - val_loss: 0.1466\n",
      "Epoch 118/250\n",
      "391/391 [==============================] - 10s 25ms/step - loss: 0.1452 - val_loss: 0.1464\n",
      "Epoch 119/250\n",
      "391/391 [==============================] - 10s 25ms/step - loss: 0.1450 - val_loss: 0.1462\n",
      "Epoch 120/250\n",
      "391/391 [==============================] - 10s 25ms/step - loss: 0.1448 - val_loss: 0.1460\n",
      "Epoch 121/250\n",
      "391/391 [==============================] - 10s 25ms/step - loss: 0.1445 - val_loss: 0.1458\n",
      "Epoch 122/250\n",
      "391/391 [==============================] - 10s 25ms/step - loss: 0.1443 - val_loss: 0.1455\n",
      "Epoch 123/250\n",
      "391/391 [==============================] - 10s 25ms/step - loss: 0.1441 - val_loss: 0.1453\n",
      "Epoch 124/250\n",
      "391/391 [==============================] - 10s 25ms/step - loss: 0.1439 - val_loss: 0.1451\n",
      "Epoch 125/250\n",
      "391/391 [==============================] - 10s 25ms/step - loss: 0.1437 - val_loss: 0.1449\n",
      "Epoch 126/250\n",
      "391/391 [==============================] - 10s 25ms/step - loss: 0.1435 - val_loss: 0.1447\n",
      "Epoch 127/250\n",
      "391/391 [==============================] - 10s 25ms/step - loss: 0.1433 - val_loss: 0.1445\n",
      "Epoch 128/250\n",
      "391/391 [==============================] - 10s 25ms/step - loss: 0.1431 - val_loss: 0.1443\n",
      "Epoch 129/250\n",
      "391/391 [==============================] - 10s 25ms/step - loss: 0.1429 - val_loss: 0.1441\n",
      "Epoch 130/250\n",
      "391/391 [==============================] - 10s 25ms/step - loss: 0.1427 - val_loss: 0.1439\n",
      "Epoch 131/250\n",
      "391/391 [==============================] - 10s 25ms/step - loss: 0.1425 - val_loss: 0.1437\n",
      "Epoch 132/250\n",
      "391/391 [==============================] - 10s 25ms/step - loss: 0.1423 - val_loss: 0.1435\n",
      "Epoch 133/250\n",
      "391/391 [==============================] - 10s 25ms/step - loss: 0.1422 - val_loss: 0.1434\n",
      "Epoch 134/250\n",
      "391/391 [==============================] - 10s 26ms/step - loss: 0.1420 - val_loss: 0.1432\n",
      "Epoch 135/250\n",
      "391/391 [==============================] - 10s 25ms/step - loss: 0.1418 - val_loss: 0.1430\n",
      "Epoch 136/250\n",
      "391/391 [==============================] - 10s 25ms/step - loss: 0.1416 - val_loss: 0.1428\n",
      "Epoch 137/250\n",
      "391/391 [==============================] - 10s 25ms/step - loss: 0.1414 - val_loss: 0.1426\n",
      "Epoch 138/250\n",
      "391/391 [==============================] - 10s 25ms/step - loss: 0.1412 - val_loss: 0.1424\n",
      "Epoch 139/250\n",
      "391/391 [==============================] - 10s 25ms/step - loss: 0.1411 - val_loss: 0.1422\n",
      "Epoch 140/250\n",
      "391/391 [==============================] - 10s 25ms/step - loss: 0.1409 - val_loss: 0.1421\n",
      "Epoch 141/250\n",
      "391/391 [==============================] - 10s 25ms/step - loss: 0.1407 - val_loss: 0.1419\n",
      "Epoch 142/250\n",
      "391/391 [==============================] - 10s 25ms/step - loss: 0.1405 - val_loss: 0.1417\n",
      "Epoch 143/250\n",
      "391/391 [==============================] - 10s 25ms/step - loss: 0.1404 - val_loss: 0.1415\n",
      "Epoch 144/250\n",
      "391/391 [==============================] - 10s 25ms/step - loss: 0.1402 - val_loss: 0.1414\n",
      "Epoch 145/250\n",
      "391/391 [==============================] - 10s 25ms/step - loss: 0.1400 - val_loss: 0.1412\n",
      "Epoch 146/250\n",
      "391/391 [==============================] - 10s 25ms/step - loss: 0.1399 - val_loss: 0.1410\n",
      "Epoch 147/250\n",
      "391/391 [==============================] - 10s 25ms/step - loss: 0.1397 - val_loss: 0.1409\n",
      "Epoch 148/250\n",
      "391/391 [==============================] - 10s 25ms/step - loss: 0.1396 - val_loss: 0.1407\n",
      "Epoch 149/250\n",
      "391/391 [==============================] - 10s 25ms/step - loss: 0.1394 - val_loss: 0.1406\n",
      "Epoch 150/250\n",
      "391/391 [==============================] - 10s 25ms/step - loss: 0.1392 - val_loss: 0.1404\n",
      "Epoch 151/250\n",
      "391/391 [==============================] - 10s 25ms/step - loss: 0.1391 - val_loss: 0.1402\n",
      "Epoch 152/250\n",
      "391/391 [==============================] - 10s 25ms/step - loss: 0.1389 - val_loss: 0.1401\n",
      "Epoch 153/250\n",
      "391/391 [==============================] - 10s 25ms/step - loss: 0.1388 - val_loss: 0.1399\n",
      "Epoch 154/250\n",
      "391/391 [==============================] - 10s 25ms/step - loss: 0.1386 - val_loss: 0.1398\n",
      "Epoch 155/250\n",
      "391/391 [==============================] - 10s 25ms/step - loss: 0.1385 - val_loss: 0.1396\n",
      "Epoch 156/250\n",
      "391/391 [==============================] - 10s 25ms/step - loss: 0.1383 - val_loss: 0.1395\n",
      "Epoch 157/250\n",
      "391/391 [==============================] - 10s 25ms/step - loss: 0.1382 - val_loss: 0.1393\n",
      "Epoch 158/250\n"
     ]
    },
    {
     "name": "stdout",
     "output_type": "stream",
     "text": [
      "391/391 [==============================] - 10s 25ms/step - loss: 0.1380 - val_loss: 0.1392\n",
      "Epoch 159/250\n",
      "391/391 [==============================] - 10s 25ms/step - loss: 0.1379 - val_loss: 0.1390\n",
      "Epoch 160/250\n",
      "391/391 [==============================] - 10s 25ms/step - loss: 0.1377 - val_loss: 0.1389\n",
      "Epoch 161/250\n",
      "391/391 [==============================] - 10s 25ms/step - loss: 0.1376 - val_loss: 0.1387\n",
      "Epoch 162/250\n",
      "391/391 [==============================] - 10s 25ms/step - loss: 0.1374 - val_loss: 0.1386\n",
      "Epoch 163/250\n",
      "391/391 [==============================] - 10s 25ms/step - loss: 0.1373 - val_loss: 0.1384\n",
      "Epoch 164/250\n",
      "391/391 [==============================] - 10s 25ms/step - loss: 0.1372 - val_loss: 0.1383\n",
      "Epoch 165/250\n",
      "391/391 [==============================] - 10s 25ms/step - loss: 0.1370 - val_loss: 0.1382\n",
      "Epoch 166/250\n",
      "391/391 [==============================] - 10s 25ms/step - loss: 0.1369 - val_loss: 0.1380\n",
      "Epoch 167/250\n",
      "391/391 [==============================] - 10s 25ms/step - loss: 0.1368 - val_loss: 0.1379\n",
      "Epoch 168/250\n",
      "391/391 [==============================] - 10s 25ms/step - loss: 0.1366 - val_loss: 0.1377\n",
      "Epoch 169/250\n",
      "391/391 [==============================] - 10s 25ms/step - loss: 0.1365 - val_loss: 0.1376\n",
      "Epoch 170/250\n",
      "391/391 [==============================] - 10s 25ms/step - loss: 0.1364 - val_loss: 0.1375\n",
      "Epoch 171/250\n",
      "391/391 [==============================] - 10s 25ms/step - loss: 0.1362 - val_loss: 0.1374\n",
      "Epoch 172/250\n",
      "391/391 [==============================] - 10s 25ms/step - loss: 0.1361 - val_loss: 0.1372\n",
      "Epoch 173/250\n",
      "391/391 [==============================] - 10s 25ms/step - loss: 0.1360 - val_loss: 0.1371\n",
      "Epoch 174/250\n",
      "391/391 [==============================] - 10s 25ms/step - loss: 0.1359 - val_loss: 0.1370\n",
      "Epoch 175/250\n",
      "391/391 [==============================] - 10s 25ms/step - loss: 0.1357 - val_loss: 0.1368\n",
      "Epoch 176/250\n",
      "391/391 [==============================] - 10s 25ms/step - loss: 0.1356 - val_loss: 0.1367\n",
      "Epoch 177/250\n",
      "391/391 [==============================] - 10s 25ms/step - loss: 0.1355 - val_loss: 0.1366\n",
      "Epoch 178/250\n",
      "391/391 [==============================] - 10s 25ms/step - loss: 0.1354 - val_loss: 0.1365\n",
      "Epoch 179/250\n",
      "391/391 [==============================] - 10s 25ms/step - loss: 0.1353 - val_loss: 0.1364\n",
      "Epoch 180/250\n",
      "391/391 [==============================] - 10s 25ms/step - loss: 0.1351 - val_loss: 0.1362\n",
      "Epoch 181/250\n",
      "391/391 [==============================] - 10s 25ms/step - loss: 0.1350 - val_loss: 0.1361\n",
      "Epoch 182/250\n",
      "391/391 [==============================] - 10s 25ms/step - loss: 0.1349 - val_loss: 0.1360\n",
      "Epoch 183/250\n",
      "391/391 [==============================] - 10s 25ms/step - loss: 0.1348 - val_loss: 0.1359\n",
      "Epoch 184/250\n",
      "391/391 [==============================] - 10s 25ms/step - loss: 0.1347 - val_loss: 0.1358\n",
      "Epoch 185/250\n",
      "391/391 [==============================] - 10s 25ms/step - loss: 0.1346 - val_loss: 0.1357\n",
      "Epoch 186/250\n",
      "391/391 [==============================] - 10s 25ms/step - loss: 0.1345 - val_loss: 0.1355\n",
      "Epoch 187/250\n",
      "391/391 [==============================] - 10s 25ms/step - loss: 0.1344 - val_loss: 0.1354\n",
      "Epoch 188/250\n",
      "391/391 [==============================] - 10s 25ms/step - loss: 0.1342 - val_loss: 0.1353\n",
      "Epoch 189/250\n",
      "391/391 [==============================] - 10s 25ms/step - loss: 0.1341 - val_loss: 0.1352\n",
      "Epoch 190/250\n",
      "391/391 [==============================] - 10s 25ms/step - loss: 0.1340 - val_loss: 0.1351\n",
      "Epoch 191/250\n",
      "391/391 [==============================] - 10s 25ms/step - loss: 0.1339 - val_loss: 0.1350\n",
      "Epoch 192/250\n",
      "391/391 [==============================] - 10s 25ms/step - loss: 0.1338 - val_loss: 0.1349\n",
      "Epoch 193/250\n",
      "391/391 [==============================] - 10s 25ms/step - loss: 0.1337 - val_loss: 0.1348\n",
      "Epoch 194/250\n",
      "391/391 [==============================] - 10s 25ms/step - loss: 0.1336 - val_loss: 0.1347\n",
      "Epoch 195/250\n",
      "391/391 [==============================] - 10s 25ms/step - loss: 0.1335 - val_loss: 0.1346\n",
      "Epoch 196/250\n",
      "391/391 [==============================] - 10s 25ms/step - loss: 0.1334 - val_loss: 0.1345\n",
      "Epoch 197/250\n",
      "391/391 [==============================] - 10s 25ms/step - loss: 0.1333 - val_loss: 0.1344\n",
      "Epoch 198/250\n",
      "391/391 [==============================] - 10s 25ms/step - loss: 0.1332 - val_loss: 0.1343\n",
      "Epoch 199/250\n",
      "391/391 [==============================] - 10s 25ms/step - loss: 0.1331 - val_loss: 0.1342\n",
      "Epoch 200/250\n",
      "391/391 [==============================] - 10s 25ms/step - loss: 0.1330 - val_loss: 0.1341\n",
      "Epoch 201/250\n",
      "391/391 [==============================] - 10s 25ms/step - loss: 0.1329 - val_loss: 0.1340\n",
      "Epoch 202/250\n",
      "391/391 [==============================] - 10s 25ms/step - loss: 0.1329 - val_loss: 0.1339\n",
      "Epoch 203/250\n",
      "391/391 [==============================] - 10s 25ms/step - loss: 0.1328 - val_loss: 0.1338\n",
      "Epoch 204/250\n",
      "391/391 [==============================] - 10s 25ms/step - loss: 0.1327 - val_loss: 0.1337\n",
      "Epoch 205/250\n",
      "391/391 [==============================] - 10s 25ms/step - loss: 0.1326 - val_loss: 0.1336\n",
      "Epoch 206/250\n",
      "391/391 [==============================] - 10s 25ms/step - loss: 0.1325 - val_loss: 0.1336\n",
      "Epoch 207/250\n",
      "391/391 [==============================] - 10s 26ms/step - loss: 0.1324 - val_loss: 0.1334\n",
      "Epoch 208/250\n",
      "391/391 [==============================] - 10s 25ms/step - loss: 0.1323 - val_loss: 0.1334\n",
      "Epoch 209/250\n",
      "391/391 [==============================] - 10s 25ms/step - loss: 0.1322 - val_loss: 0.1333\n",
      "Epoch 210/250\n",
      "391/391 [==============================] - 10s 25ms/step - loss: 0.1321 - val_loss: 0.1332\n",
      "Epoch 211/250\n",
      "391/391 [==============================] - 10s 25ms/step - loss: 0.1321 - val_loss: 0.1331\n",
      "Epoch 212/250\n",
      "391/391 [==============================] - 10s 25ms/step - loss: 0.1320 - val_loss: 0.1330\n",
      "Epoch 213/250\n",
      "391/391 [==============================] - 10s 25ms/step - loss: 0.1319 - val_loss: 0.1329\n",
      "Epoch 214/250\n",
      "391/391 [==============================] - 10s 25ms/step - loss: 0.1318 - val_loss: 0.1329\n",
      "Epoch 215/250\n",
      "391/391 [==============================] - 10s 25ms/step - loss: 0.1317 - val_loss: 0.1328\n",
      "Epoch 216/250\n",
      "391/391 [==============================] - 10s 25ms/step - loss: 0.1317 - val_loss: 0.1327\n",
      "Epoch 217/250\n",
      "391/391 [==============================] - 10s 25ms/step - loss: 0.1316 - val_loss: 0.1326\n",
      "Epoch 218/250\n",
      "391/391 [==============================] - 10s 25ms/step - loss: 0.1315 - val_loss: 0.1325\n",
      "Epoch 219/250\n",
      "391/391 [==============================] - 10s 25ms/step - loss: 0.1314 - val_loss: 0.1324\n",
      "Epoch 220/250\n",
      "391/391 [==============================] - 10s 25ms/step - loss: 0.1313 - val_loss: 0.1324\n",
      "Epoch 221/250\n",
      "391/391 [==============================] - 10s 25ms/step - loss: 0.1313 - val_loss: 0.1323\n",
      "Epoch 222/250\n",
      "391/391 [==============================] - 10s 25ms/step - loss: 0.1312 - val_loss: 0.1322\n",
      "Epoch 223/250\n",
      "391/391 [==============================] - 10s 25ms/step - loss: 0.1311 - val_loss: 0.1321\n",
      "Epoch 224/250\n",
      "391/391 [==============================] - 10s 25ms/step - loss: 0.1310 - val_loss: 0.1320\n",
      "Epoch 225/250\n",
      "391/391 [==============================] - 10s 25ms/step - loss: 0.1310 - val_loss: 0.1320\n",
      "Epoch 226/250\n",
      "391/391 [==============================] - 10s 25ms/step - loss: 0.1309 - val_loss: 0.1319\n",
      "Epoch 227/250\n",
      "391/391 [==============================] - 10s 25ms/step - loss: 0.1308 - val_loss: 0.1318\n",
      "Epoch 228/250\n",
      "391/391 [==============================] - 10s 25ms/step - loss: 0.1307 - val_loss: 0.1318\n",
      "Epoch 229/250\n",
      "391/391 [==============================] - 10s 25ms/step - loss: 0.1307 - val_loss: 0.1317\n",
      "Epoch 230/250\n",
      "391/391 [==============================] - 10s 25ms/step - loss: 0.1306 - val_loss: 0.1316\n",
      "Epoch 231/250\n",
      "391/391 [==============================] - 10s 25ms/step - loss: 0.1305 - val_loss: 0.1315\n",
      "Epoch 232/250\n",
      "391/391 [==============================] - 10s 25ms/step - loss: 0.1305 - val_loss: 0.1315\n",
      "Epoch 233/250\n",
      "391/391 [==============================] - 10s 25ms/step - loss: 0.1304 - val_loss: 0.1314\n",
      "Epoch 234/250\n",
      "391/391 [==============================] - 10s 25ms/step - loss: 0.1303 - val_loss: 0.1313\n",
      "Epoch 235/250\n",
      "391/391 [==============================] - 10s 25ms/step - loss: 0.1302 - val_loss: 0.1313\n",
      "Epoch 236/250\n"
     ]
    },
    {
     "name": "stdout",
     "output_type": "stream",
     "text": [
      "391/391 [==============================] - 10s 25ms/step - loss: 0.1302 - val_loss: 0.1312\n",
      "Epoch 237/250\n",
      "391/391 [==============================] - 10s 25ms/step - loss: 0.1301 - val_loss: 0.1311\n",
      "Epoch 238/250\n",
      "391/391 [==============================] - 10s 25ms/step - loss: 0.1300 - val_loss: 0.1311\n",
      "Epoch 239/250\n",
      "391/391 [==============================] - 10s 25ms/step - loss: 0.1300 - val_loss: 0.1310\n",
      "Epoch 240/250\n",
      "391/391 [==============================] - 10s 25ms/step - loss: 0.1299 - val_loss: 0.1309\n",
      "Epoch 241/250\n",
      "391/391 [==============================] - 10s 25ms/step - loss: 0.1299 - val_loss: 0.1308\n",
      "Epoch 242/250\n",
      "391/391 [==============================] - 10s 25ms/step - loss: 0.1298 - val_loss: 0.1308\n",
      "Epoch 243/250\n",
      "391/391 [==============================] - 10s 25ms/step - loss: 0.1297 - val_loss: 0.1307\n",
      "Epoch 244/250\n",
      "391/391 [==============================] - 10s 25ms/step - loss: 0.1297 - val_loss: 0.1307\n",
      "Epoch 245/250\n",
      "391/391 [==============================] - 10s 25ms/step - loss: 0.1296 - val_loss: 0.1306\n",
      "Epoch 246/250\n",
      "391/391 [==============================] - 10s 25ms/step - loss: 0.1295 - val_loss: 0.1305\n",
      "Epoch 247/250\n",
      "391/391 [==============================] - 10s 25ms/step - loss: 0.1295 - val_loss: 0.1305\n",
      "Epoch 248/250\n",
      "391/391 [==============================] - 10s 25ms/step - loss: 0.1294 - val_loss: 0.1304\n",
      "Epoch 249/250\n",
      "391/391 [==============================] - 10s 25ms/step - loss: 0.1293 - val_loss: 0.1303\n",
      "Epoch 250/250\n",
      "391/391 [==============================] - 10s 25ms/step - loss: 0.1293 - val_loss: 0.1303\n"
     ]
    }
   ],
   "source": [
    "history = autoencoder.fit(X_train_noisy, X_train, \n",
    "                          epochs = 250 , batch_size = 128, \n",
    "                          shuffle =  True, \n",
    "                          validation_data = (X_val_noisy,  X_val),\n",
    "                          callbacks=[es, tensorboard_callback])"
   ]
  },
  {
   "cell_type": "markdown",
   "metadata": {},
   "source": [
    "### Visualize the input and output for test data"
   ]
  },
  {
   "cell_type": "code",
   "execution_count": 19,
   "metadata": {},
   "outputs": [
    {
     "data": {
      "image/png": "[encoded data removed]",
      "text/plain": [
       "<Figure size 1440x288 with 20 Axes>"
      ]
     },
     "metadata": {
      "needs_background": "light"
     },
     "output_type": "display_data"
    }
   ],
   "source": [
    "decoded_imgs = autoencoder.predict(X_test_noisy)\n",
    "\n",
    "n = 10\n",
    "plt.figure(figsize=(20, 4))\n",
    "for i in range(n):\n",
    "    ax = plt.subplot(2, n,  i +  1)\n",
    "    plt.imshow(X_test_noisy[i].reshape(28,28))\n",
    "    plt.gray()\n",
    "    ax.get_xaxis().set_visible(False)\n",
    "    ax.get_yaxis().set_visible(False)\n",
    "    \n",
    "    ax = plt.subplot(2,  n  , i +1 + n)\n",
    "    plt.imshow(decoded_imgs[i].reshape(28,28))\n",
    "    plt.gray()\n",
    "    ax.get_xaxis().set_visible(False)\n",
    "    ax.get_yaxis().set_visible(False)\n",
    "plt.show()"
   ]
  },
  {
   "cell_type": "code",
   "execution_count": null,
   "metadata": {},
   "outputs": [],
   "source": []
  },
  {
   "cell_type": "code",
   "execution_count": null,
   "metadata": {},
   "outputs": [],
   "source": []
  },
  {
   "cell_type": "code",
   "execution_count": null,
   "metadata": {},
   "outputs": [],
   "source": []
  }
 ],
 "metadata": {
  "kernelspec": {
   "display_name": "da_env",
   "language": "python",
   "name": "da_env"
  },
  "language_info": {
   "codemirror_mode": {
    "name": "ipython",
    "version": 3
   },
   "file_extension": ".py",
   "mimetype": "text/x-python",
   "name": "python",
   "nbconvert_exporter": "python",
   "pygments_lexer": "ipython3",
   "version": "3.8.1"
  }
 },
 "nbformat": 4,
 "nbformat_minor": 4
}
